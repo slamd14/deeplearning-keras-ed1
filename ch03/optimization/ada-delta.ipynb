{
 "cells": [
  {
   "cell_type": "code",
   "execution_count": 2,
   "metadata": {},
   "outputs": [
    {
     "name": "stderr",
     "output_type": "stream",
     "text": [
      "Using TensorFlow backend.\n"
     ]
    }
   ],
   "source": [
    "from __future__ import print_function\n",
    "\n",
    "import keras\n",
    "from keras.datasets import mnist\n",
    "from keras.models import Sequential\n",
    "from keras.layers import Dense, Dropout\n",
    "from keras.optimizers import SGD\n",
    "\n",
    "batch_size = 128\n",
    "num_classes = 10\n",
    "epochs = 20"
   ]
  },
  {
   "cell_type": "code",
   "execution_count": 3,
   "metadata": {},
   "outputs": [
    {
     "name": "stdout",
     "output_type": "stream",
     "text": [
      "60000 train samples\n",
      "10000 test samples\n"
     ]
    }
   ],
   "source": [
    "# the data, split between train and test sets\n",
    "(x_train, y_train), (x_test, y_test) = mnist.load_data()\n",
    "\n",
    "x_train = x_train.reshape(60000, 784)\n",
    "x_test = x_test.reshape(10000, 784)\n",
    "x_train = x_train.astype('float32')\n",
    "x_test = x_test.astype('float32')\n",
    "x_train /= 255\n",
    "x_test /= 255\n",
    "print(x_train.shape[0], 'train samples')\n",
    "print(x_test.shape[0], 'test samples')"
   ]
  },
  {
   "cell_type": "code",
   "execution_count": 4,
   "metadata": {},
   "outputs": [
    {
     "name": "stdout",
     "output_type": "stream",
     "text": [
      "_________________________________________________________________\n",
      "Layer (type)                 Output Shape              Param #   \n",
      "=================================================================\n",
      "dense_1 (Dense)              (None, 512)               401920    \n",
      "_________________________________________________________________\n",
      "dropout_1 (Dropout)          (None, 512)               0         \n",
      "_________________________________________________________________\n",
      "dense_2 (Dense)              (None, 512)               262656    \n",
      "_________________________________________________________________\n",
      "dropout_2 (Dropout)          (None, 512)               0         \n",
      "_________________________________________________________________\n",
      "dense_3 (Dense)              (None, 10)                5130      \n",
      "=================================================================\n",
      "Total params: 669,706\n",
      "Trainable params: 669,706\n",
      "Non-trainable params: 0\n",
      "_________________________________________________________________\n",
      "Train on 60000 samples, validate on 10000 samples\n",
      "Epoch 1/20\n",
      "60000/60000 [==============================] - 9s 150us/step - loss: 0.2888 - acc: 0.9124 - val_loss: 0.1179 - val_acc: 0.9640\n",
      "Epoch 2/20\n",
      "60000/60000 [==============================] - 11s 191us/step - loss: 0.1160 - acc: 0.9645 - val_loss: 0.0978 - val_acc: 0.9687\n",
      "Epoch 3/20\n",
      "60000/60000 [==============================] - 10s 163us/step - loss: 0.0799 - acc: 0.9746 - val_loss: 0.0721 - val_acc: 0.9771\n",
      "Epoch 4/20\n",
      "60000/60000 [==============================] - 11s 178us/step - loss: 0.0613 - acc: 0.9807 - val_loss: 0.0675 - val_acc: 0.9774\n",
      "Epoch 5/20\n",
      "60000/60000 [==============================] - 10s 159us/step - loss: 0.0491 - acc: 0.9849 - val_loss: 0.0651 - val_acc: 0.9802\n",
      "Epoch 6/20\n",
      "60000/60000 [==============================] - 12s 203us/step - loss: 0.0396 - acc: 0.9876 - val_loss: 0.0636 - val_acc: 0.9811\n",
      "Epoch 7/20\n",
      "60000/60000 [==============================] - 11s 187us/step - loss: 0.0334 - acc: 0.9894 - val_loss: 0.0608 - val_acc: 0.9811\n",
      "Epoch 8/20\n",
      "60000/60000 [==============================] - 10s 171us/step - loss: 0.0288 - acc: 0.9908 - val_loss: 0.0620 - val_acc: 0.9810\n",
      "Epoch 9/20\n",
      "60000/60000 [==============================] - 14s 241us/step - loss: 0.0241 - acc: 0.9924 - val_loss: 0.0642 - val_acc: 0.9810\n",
      "Epoch 10/20\n",
      "60000/60000 [==============================] - 12s 204us/step - loss: 0.0209 - acc: 0.9931 - val_loss: 0.0622 - val_acc: 0.9820\n",
      "Epoch 11/20\n",
      "60000/60000 [==============================] - 16s 264us/step - loss: 0.0177 - acc: 0.9943 - val_loss: 0.0673 - val_acc: 0.9826\n",
      "Epoch 12/20\n",
      "60000/60000 [==============================] - 14s 236us/step - loss: 0.0159 - acc: 0.9946 - val_loss: 0.0640 - val_acc: 0.9825\n",
      "Epoch 13/20\n",
      "60000/60000 [==============================] - 17s 279us/step - loss: 0.0135 - acc: 0.9956 - val_loss: 0.0595 - val_acc: 0.9829\n",
      "Epoch 14/20\n",
      "60000/60000 [==============================] - 17s 288us/step - loss: 0.0119 - acc: 0.9960 - val_loss: 0.0664 - val_acc: 0.9836\n",
      "Epoch 15/20\n",
      "60000/60000 [==============================] - 19s 321us/step - loss: 0.0110 - acc: 0.9962 - val_loss: 0.0629 - val_acc: 0.9847\n",
      "Epoch 16/20\n",
      "60000/60000 [==============================] - 17s 278us/step - loss: 0.0094 - acc: 0.9969 - val_loss: 0.0712 - val_acc: 0.9835\n",
      "Epoch 17/20\n",
      "60000/60000 [==============================] - 16s 260us/step - loss: 0.0093 - acc: 0.9970 - val_loss: 0.0628 - val_acc: 0.9849\n",
      "Epoch 18/20\n",
      "60000/60000 [==============================] - 14s 240us/step - loss: 0.0087 - acc: 0.9971 - val_loss: 0.0671 - val_acc: 0.9845\n",
      "Epoch 19/20\n",
      "60000/60000 [==============================] - 14s 226us/step - loss: 0.0073 - acc: 0.9980 - val_loss: 0.0626 - val_acc: 0.9850\n",
      "Epoch 20/20\n",
      "60000/60000 [==============================] - 14s 229us/step - loss: 0.0073 - acc: 0.9977 - val_loss: 0.0644 - val_acc: 0.9846\n"
     ]
    }
   ],
   "source": [
    "# convert class vectors to binary class matrices\n",
    "y_train = keras.utils.to_categorical(y_train, num_classes)\n",
    "y_test = keras.utils.to_categorical(y_test, num_classes)\n",
    "\n",
    "model = Sequential()\n",
    "model.add(Dense(512, activation='relu', input_shape=(784,)))\n",
    "model.add(Dropout(0.2))\n",
    "model.add(Dense(512, activation='relu'))\n",
    "model.add(Dropout(0.2))\n",
    "model.add(Dense(num_classes, activation='softmax'))\n",
    "\n",
    "model.summary()\n",
    "ada_delta = keras.optimizers.Adadelta(lr=1.0, rho=0.95, epsilon=None, decay=0.0)\n",
    "\n",
    "model.compile(loss='categorical_crossentropy', optimizer=ada_delta,metrics=['accuracy'])\n",
    "\n",
    "history = model.fit(x_train, y_train,\n",
    "                    batch_size=batch_size,\n",
    "                    epochs=epochs,\n",
    "                    verbose=1,\n",
    "                    validation_data=(x_test, y_test))\n"
   ]
  },
  {
   "cell_type": "code",
   "execution_count": 5,
   "metadata": {},
   "outputs": [
    {
     "name": "stdout",
     "output_type": "stream",
     "text": [
      "['acc', 'loss', 'val_acc', 'val_loss']\n"
     ]
    },
    {
     "data": {
      "image/png": "[encoded data removed]",
      "text/plain": [
       "<matplotlib.figure.Figure at 0x7ff4986efdd0>"
      ]
     },
     "metadata": {},
     "output_type": "display_data"
    },
    {
     "data": {
      "image/png": "[encoded data removed]",
      "text/plain": [
       "<matplotlib.figure.Figure at 0x7ff4983c35d0>"
      ]
     },
     "metadata": {},
     "output_type": "display_data"
    }
   ],
   "source": [
    "print(history.history.keys())\n",
    "\n",
    "import matplotlib.pyplot as plt\n",
    "%matplotlib inline\n",
    "# summarize history for accuracy\n",
    "plt.plot(history.history['acc'])\n",
    "plt.plot(history.history['val_acc'])\n",
    "plt.title('Model Accuracy for AdaDelta')\n",
    "plt.ylabel('accuracy')\n",
    "plt.xlabel('epoch')\n",
    "plt.legend(['train', 'test'], loc='upper left')\n",
    "plt.show()\n",
    "# summarize history for loss\n",
    "plt.plot(history.history['loss'])\n",
    "plt.plot(history.history['val_loss'])\n",
    "plt.title('Model Loss for AdaDelta')\n",
    "plt.ylabel('loss')\n",
    "plt.xlabel('epoch')\n",
    "plt.legend(['train', 'test'], loc='upper left')\n",
    "plt.show()"
   ]
  },
  {
   "cell_type": "code",
   "execution_count": 6,
   "metadata": {},
   "outputs": [
    {
     "name": "stdout",
     "output_type": "stream",
     "text": [
      "Test loss: 0.0644025499775\n",
      "Test accuracy: 0.9846\n"
     ]
    }
   ],
   "source": [
    "score = model.evaluate(x_test, y_test, verbose=0)\n",
    "print('Test loss:', score[0])\n",
    "print('Test accuracy:', score[1])"
   ]
  },
  {
   "cell_type": "code",
   "execution_count": null,
   "metadata": {},
   "outputs": [],
   "source": []
  }
 ],
 "metadata": {
  "kernelspec": {
   "display_name": "Python 2",
   "language": "python",
   "name": "python2"
  },
  "language_info": {
   "codemirror_mode": {
    "name": "ipython",
    "version": 2
   },
   "file_extension": ".py",
   "mimetype": "text/x-python",
   "name": "python",
   "nbconvert_exporter": "python",
   "pygments_lexer": "ipython2",
   "version": "2.7.12"
  }
 },
 "nbformat": 4,
 "nbformat_minor": 2
}
