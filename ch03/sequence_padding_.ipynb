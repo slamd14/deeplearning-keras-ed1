{
 "cells": [
  {
   "cell_type": "code",
   "execution_count": 3,
   "metadata": {},
   "outputs": [
    {
     "name": "stdout",
     "output_type": "stream",
     "text": [
      "[[1 2 3 4]\n",
      " [0 5 6 7]\n",
      " [0 0 0 5]]\n"
     ]
    }
   ],
   "source": [
    "from keras.preprocessing.sequence import pad_sequences\n",
    "# define sequences\n",
    "sequences = [\n",
    "[1, 2, 3, 4],\n",
    "[5, 6, 7],\n",
    "[5]\n",
    "]\n",
    "# pad sequence\n",
    "padded = pad_sequences(sequences)\n",
    "print(padded)"
   ]
  },
  {
   "cell_type": "code",
   "execution_count": 4,
   "metadata": {},
   "outputs": [
    {
     "name": "stdout",
     "output_type": "stream",
     "text": [
      "[[1 2 3 4]\n",
      " [5 6 7 0]\n",
      " [5 0 0 0]]\n"
     ]
    }
   ],
   "source": [
    "padded_post = pad_sequences(sequences,padding='post')\n",
    "print(padded_post)"
   ]
  },
  {
   "cell_type": "code",
   "execution_count": 5,
   "metadata": {},
   "outputs": [
    {
     "name": "stdout",
     "output_type": "stream",
     "text": [
      "[[2 3 4]\n",
      " [5 6 7]\n",
      " [0 0 5]]\n"
     ]
    }
   ],
   "source": [
    "padded_maxlen = pad_sequences(sequences,maxlen=3)\n",
    "print(padded_maxlen)"
   ]
  },
  {
   "cell_type": "code",
   "execution_count": 8,
   "metadata": {},
   "outputs": [
    {
     "name": "stdout",
     "output_type": "stream",
     "text": [
      "[[2 3 4]\n",
      " [5 6 7]\n",
      " [0 0 5]]\n"
     ]
    }
   ],
   "source": [
    "padded_maxlen_truncating_pre = pad_sequences(sequences,maxlen=3, truncating='pre')\n",
    "print(padded_maxlen_truncating_pre)"
   ]
  },
  {
   "cell_type": "code",
   "execution_count": 9,
   "metadata": {},
   "outputs": [
    {
     "name": "stdout",
     "output_type": "stream",
     "text": [
      "[[1 2 3]\n",
      " [5 6 7]\n",
      " [0 0 5]]\n"
     ]
    }
   ],
   "source": [
    "padded_maxlen_truncating_post = pad_sequences(sequences,maxlen=3, truncating='post')\n",
    "print(padded_maxlen_truncating_post)"
   ]
  },
  {
   "cell_type": "code",
   "execution_count": 10,
   "metadata": {},
   "outputs": [
    {
     "name": "stdout",
     "output_type": "stream",
     "text": [
      "[[1 2 3 4]\n",
      " [1 5 6 7]\n",
      " [1 1 1 5]]\n"
     ]
    }
   ],
   "source": [
    "padded_value = pad_sequences(sequences, value=1.0)\n",
    "print(padded_value)"
   ]
  },
  {
   "cell_type": "code",
   "execution_count": null,
   "metadata": {},
   "outputs": [],
   "source": [
    ""
   ]
  }
 ],
 "metadata": {
  "kernelspec": {
   "display_name": "Python 2",
   "language": "python",
   "name": "python2"
  },
  "language_info": {
   "codemirror_mode": {
    "name": "ipython",
    "version": 2.0
   },
   "file_extension": ".py",
   "mimetype": "text/x-python",
   "name": "python",
   "nbconvert_exporter": "python",
   "pygments_lexer": "ipython2",
   "version": "2.7.12"
  }
 },
 "nbformat": 4,
 "nbformat_minor": 0
}